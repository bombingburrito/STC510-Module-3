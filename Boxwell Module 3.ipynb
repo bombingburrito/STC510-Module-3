{
 "cells": [
  {
   "cell_type": "code",
   "execution_count": 1,
   "id": "e2a4c6a4-ddfb-4c8c-b2aa-ab37eb25533c",
   "metadata": {
    "tags": []
   },
   "outputs": [],
   "source": [
    "import numpy as np\n",
    "import matplotlib.pyplot as plt\n",
    "import pandas as pd\n",
    "import sqlite3"
   ]
  },
  {
   "cell_type": "code",
   "execution_count": 2,
   "id": "484daa1e-e923-4c9b-b8e5-364e1c49f0ad",
   "metadata": {
    "tags": []
   },
   "outputs": [
    {
     "name": "stderr",
     "output_type": "stream",
     "text": [
      "C:\\Users\\Ryan\\AppData\\Local\\Temp\\ipykernel_9400\\3422522221.py:1: FutureWarning: The error_bad_lines argument has been deprecated and will be removed in a future version. Use on_bad_lines in the future.\n",
      "\n",
      "\n",
      "  crime = pd.read_csv('crimestat2.csv', error_bad_lines=False, engine=\"python\")\n"
     ]
    }
   ],
   "source": [
    "crime = pd.read_csv('crimestat2.csv', error_bad_lines=False, engine=\"python\")"
   ]
  },
  {
   "cell_type": "code",
   "execution_count": 3,
   "id": "ad06cb51-bb37-4cf0-add7-dd5408d97c8c",
   "metadata": {
    "tags": []
   },
   "outputs": [
    {
     "data": {
      "text/html": [
       "<div>\n",
       "<style scoped>\n",
       "    .dataframe tbody tr th:only-of-type {\n",
       "        vertical-align: middle;\n",
       "    }\n",
       "\n",
       "    .dataframe tbody tr th {\n",
       "        vertical-align: top;\n",
       "    }\n",
       "\n",
       "    .dataframe thead th {\n",
       "        text-align: right;\n",
       "    }\n",
       "</style>\n",
       "<table border=\"1\" class=\"dataframe\">\n",
       "  <thead>\n",
       "    <tr style=\"text-align: right;\">\n",
       "      <th></th>\n",
       "      <th>INC_NUMBER</th>\n",
       "      <th>OCCURRED_ON</th>\n",
       "      <th>OCCURRED_TO</th>\n",
       "      <th>UCR_CRIME_CATEGORY</th>\n",
       "      <th>100_BLOCK_ADDR</th>\n",
       "      <th>ZIP</th>\n",
       "      <th>PREMISE_TYPE</th>\n",
       "    </tr>\n",
       "  </thead>\n",
       "  <tbody>\n",
       "    <tr>\n",
       "      <th>0</th>\n",
       "      <td>2.016E+14</td>\n",
       "      <td>11/1/2015 0:00</td>\n",
       "      <td>1/9/2016 0:00</td>\n",
       "      <td>MOTOR VEHICLE THEFT</td>\n",
       "      <td>N 43RD AVE &amp; W CACTUS RD</td>\n",
       "      <td>85029.0</td>\n",
       "      <td>SINGLE FAMILY HOUSE</td>\n",
       "    </tr>\n",
       "    <tr>\n",
       "      <th>1</th>\n",
       "      <td>2.016E+14</td>\n",
       "      <td>11/1/2015 0:00</td>\n",
       "      <td>NaN</td>\n",
       "      <td>RAPE</td>\n",
       "      <td>13XX E ALMERIA RD</td>\n",
       "      <td>85006.0</td>\n",
       "      <td>SINGLE FAMILY HOUSE</td>\n",
       "    </tr>\n",
       "    <tr>\n",
       "      <th>2</th>\n",
       "      <td>2.015E+14</td>\n",
       "      <td>11/1/2015 0:00</td>\n",
       "      <td>11/1/2015 9:00</td>\n",
       "      <td>LARCENY-THEFT</td>\n",
       "      <td>51XX N 15TH ST</td>\n",
       "      <td>85014.0</td>\n",
       "      <td>APARTMENT</td>\n",
       "    </tr>\n",
       "    <tr>\n",
       "      <th>3</th>\n",
       "      <td>2.015E+14</td>\n",
       "      <td>11/1/2015 0:00</td>\n",
       "      <td>11/1/2015 5:00</td>\n",
       "      <td>MOTOR VEHICLE THEFT</td>\n",
       "      <td>102XX W MEDLOCK AVE</td>\n",
       "      <td>85307.0</td>\n",
       "      <td>SINGLE FAMILY HOUSE</td>\n",
       "    </tr>\n",
       "    <tr>\n",
       "      <th>4</th>\n",
       "      <td>2.015E+14</td>\n",
       "      <td>11/1/2015 0:00</td>\n",
       "      <td>11/1/2015 11:50</td>\n",
       "      <td>MOTOR VEHICLE THEFT</td>\n",
       "      <td>69XX W WOOD ST</td>\n",
       "      <td>85043.0</td>\n",
       "      <td>SINGLE FAMILY HOUSE</td>\n",
       "    </tr>\n",
       "    <tr>\n",
       "      <th>...</th>\n",
       "      <td>...</td>\n",
       "      <td>...</td>\n",
       "      <td>...</td>\n",
       "      <td>...</td>\n",
       "      <td>...</td>\n",
       "      <td>...</td>\n",
       "      <td>...</td>\n",
       "    </tr>\n",
       "    <tr>\n",
       "      <th>131672</th>\n",
       "      <td>2.017E+14</td>\n",
       "      <td>11/17/2017 4:15</td>\n",
       "      <td>11/17/2017 4:30</td>\n",
       "      <td>LARCENY-THEFT</td>\n",
       "      <td>16XX E INDIAN SCHOOL RD</td>\n",
       "      <td>85016.0</td>\n",
       "      <td>CONVENIENCE MARKET / STORE</td>\n",
       "    </tr>\n",
       "    <tr>\n",
       "      <th>131673</th>\n",
       "      <td>2.017E+14</td>\n",
       "      <td>11/17/2017 5:00</td>\n",
       "      <td>11/17/2017 9:50</td>\n",
       "      <td>MOTOR VEHICLE THEFT</td>\n",
       "      <td>43XX N 103RD AVE</td>\n",
       "      <td>85037.0</td>\n",
       "      <td>APARTMENT</td>\n",
       "    </tr>\n",
       "    <tr>\n",
       "      <th>131674</th>\n",
       "      <td>2.017E+14</td>\n",
       "      <td>11/17/2017 5:34</td>\n",
       "      <td>NaN</td>\n",
       "      <td>AGGRAVATED ASSAULT</td>\n",
       "      <td>8XX N 59TH AVE</td>\n",
       "      <td>85043.0</td>\n",
       "      <td>ABANDONED/CONDEMNED STRUCTURE</td>\n",
       "    </tr>\n",
       "    <tr>\n",
       "      <th>131675</th>\n",
       "      <td>2.017E+14</td>\n",
       "      <td>11/17/2017 5:50</td>\n",
       "      <td>11/17/2017 7:50</td>\n",
       "      <td>BURGLARY</td>\n",
       "      <td>51XX N 39TH DR</td>\n",
       "      <td>85019.0</td>\n",
       "      <td>SINGLE FAMILY HOUSE</td>\n",
       "    </tr>\n",
       "    <tr>\n",
       "      <th>131676</th>\n",
       "      <td>2.017E+14</td>\n",
       "      <td>11/17/2017 6:00</td>\n",
       "      <td>11/30/2017 6:00</td>\n",
       "      <td>BURGLARY</td>\n",
       "      <td>68XX N 25TH DR</td>\n",
       "      <td>85017.0</td>\n",
       "      <td>A</td>\n",
       "    </tr>\n",
       "  </tbody>\n",
       "</table>\n",
       "<p>131677 rows × 7 columns</p>\n",
       "</div>"
      ],
      "text/plain": [
       "       INC_NUMBER      OCCURRED_ON      OCCURRED_TO   UCR_CRIME_CATEGORY  \\\n",
       "0       2.016E+14   11/1/2015 0:00    1/9/2016 0:00  MOTOR VEHICLE THEFT   \n",
       "1       2.016E+14   11/1/2015 0:00              NaN                 RAPE   \n",
       "2       2.015E+14   11/1/2015 0:00   11/1/2015 9:00        LARCENY-THEFT   \n",
       "3       2.015E+14   11/1/2015 0:00   11/1/2015 5:00  MOTOR VEHICLE THEFT   \n",
       "4       2.015E+14   11/1/2015 0:00  11/1/2015 11:50  MOTOR VEHICLE THEFT   \n",
       "...           ...              ...              ...                  ...   \n",
       "131672  2.017E+14  11/17/2017 4:15  11/17/2017 4:30        LARCENY-THEFT   \n",
       "131673  2.017E+14  11/17/2017 5:00  11/17/2017 9:50  MOTOR VEHICLE THEFT   \n",
       "131674  2.017E+14  11/17/2017 5:34              NaN   AGGRAVATED ASSAULT   \n",
       "131675  2.017E+14  11/17/2017 5:50  11/17/2017 7:50             BURGLARY   \n",
       "131676  2.017E+14  11/17/2017 6:00  11/30/2017 6:00             BURGLARY   \n",
       "\n",
       "                  100_BLOCK_ADDR      ZIP                   PREMISE_TYPE  \n",
       "0       N 43RD AVE & W CACTUS RD  85029.0            SINGLE FAMILY HOUSE  \n",
       "1              13XX E ALMERIA RD  85006.0            SINGLE FAMILY HOUSE  \n",
       "2                 51XX N 15TH ST  85014.0                      APARTMENT  \n",
       "3            102XX W MEDLOCK AVE  85307.0            SINGLE FAMILY HOUSE  \n",
       "4                 69XX W WOOD ST  85043.0            SINGLE FAMILY HOUSE  \n",
       "...                          ...      ...                            ...  \n",
       "131672   16XX E INDIAN SCHOOL RD  85016.0     CONVENIENCE MARKET / STORE  \n",
       "131673          43XX N 103RD AVE  85037.0                      APARTMENT  \n",
       "131674            8XX N 59TH AVE  85043.0  ABANDONED/CONDEMNED STRUCTURE  \n",
       "131675            51XX N 39TH DR  85019.0            SINGLE FAMILY HOUSE  \n",
       "131676            68XX N 25TH DR  85017.0                              A  \n",
       "\n",
       "[131677 rows x 7 columns]"
      ]
     },
     "execution_count": 3,
     "metadata": {},
     "output_type": "execute_result"
    }
   ],
   "source": [
    "crime"
   ]
  },
  {
   "cell_type": "code",
   "execution_count": 4,
   "id": "67695cfe-2d7c-4adc-9633-88b169b8e8fb",
   "metadata": {},
   "outputs": [],
   "source": [
    "###### Grouping crime by location ###### "
   ]
  },
  {
   "cell_type": "code",
   "execution_count": 5,
   "id": "e366b112-da88-42ce-938f-9b8d0de898c1",
   "metadata": {
    "jupyter": {
     "source_hidden": true
    },
    "tags": []
   },
   "outputs": [
    {
     "name": "stderr",
     "output_type": "stream",
     "text": [
      "C:\\Users\\Ryan\\AppData\\Local\\Temp\\ipykernel_9400\\1938793929.py:1: FutureWarning: The error_bad_lines argument has been deprecated and will be removed in a future version. Use on_bad_lines in the future.\n",
      "\n",
      "\n",
      "  CrimeByLocation = pd.read_csv('crimestat2.csv', index_col='ZIP', error_bad_lines=False, engine=\"python\")\n"
     ]
    },
    {
     "data": {
      "text/html": [
       "<div>\n",
       "<style scoped>\n",
       "    .dataframe tbody tr th:only-of-type {\n",
       "        vertical-align: middle;\n",
       "    }\n",
       "\n",
       "    .dataframe tbody tr th {\n",
       "        vertical-align: top;\n",
       "    }\n",
       "\n",
       "    .dataframe thead th {\n",
       "        text-align: right;\n",
       "    }\n",
       "</style>\n",
       "<table border=\"1\" class=\"dataframe\">\n",
       "  <thead>\n",
       "    <tr style=\"text-align: right;\">\n",
       "      <th></th>\n",
       "      <th>INC_NUMBER</th>\n",
       "      <th>OCCURRED_ON</th>\n",
       "      <th>OCCURRED_TO</th>\n",
       "      <th>UCR_CRIME_CATEGORY</th>\n",
       "      <th>100_BLOCK_ADDR</th>\n",
       "      <th>PREMISE_TYPE</th>\n",
       "    </tr>\n",
       "    <tr>\n",
       "      <th>ZIP</th>\n",
       "      <th></th>\n",
       "      <th></th>\n",
       "      <th></th>\n",
       "      <th></th>\n",
       "      <th></th>\n",
       "      <th></th>\n",
       "    </tr>\n",
       "  </thead>\n",
       "  <tbody>\n",
       "    <tr>\n",
       "      <th>85003.0</th>\n",
       "      <td>2.016E+14</td>\n",
       "      <td>5/7/2016 22:00</td>\n",
       "      <td>5/7/2016 22:15</td>\n",
       "      <td>AGGRAVATED ASSAULT</td>\n",
       "      <td>S 7TH AVE &amp; W JEFFERSON ST</td>\n",
       "      <td>STREET / ROADWAY / ALLEY / SIDEWALK</td>\n",
       "    </tr>\n",
       "    <tr>\n",
       "      <th>85003.0</th>\n",
       "      <td>2.017E+14</td>\n",
       "      <td>8/20/2017 2:00</td>\n",
       "      <td>NaN</td>\n",
       "      <td>AGGRAVATED ASSAULT</td>\n",
       "      <td>3XX N CENTRAL AVE</td>\n",
       "      <td>LIGHT RAIL PLATFORM</td>\n",
       "    </tr>\n",
       "    <tr>\n",
       "      <th>85003.0</th>\n",
       "      <td>2.0168E+11</td>\n",
       "      <td>1/31/2016 16:20</td>\n",
       "      <td>NaN</td>\n",
       "      <td>LARCENY-THEFT</td>\n",
       "      <td>1XX W MCDOWELL RD</td>\n",
       "      <td>PARKING LOT</td>\n",
       "    </tr>\n",
       "    <tr>\n",
       "      <th>85003.0</th>\n",
       "      <td>2.017E+14</td>\n",
       "      <td>11/8/2017 18:27</td>\n",
       "      <td>11/8/2017 18:27</td>\n",
       "      <td>DRUG OFFENSE</td>\n",
       "      <td>1XX W YUMA ST</td>\n",
       "      <td>STREET / ROADWAY / ALLEY / SIDEWALK</td>\n",
       "    </tr>\n",
       "    <tr>\n",
       "      <th>85003.0</th>\n",
       "      <td>2.016E+14</td>\n",
       "      <td>6/28/2016 16:00</td>\n",
       "      <td>NaN</td>\n",
       "      <td>MOTOR VEHICLE THEFT</td>\n",
       "      <td>5XX W WILLETTA ST</td>\n",
       "      <td>SINGLE FAMILY HOUSE</td>\n",
       "    </tr>\n",
       "  </tbody>\n",
       "</table>\n",
       "</div>"
      ],
      "text/plain": [
       "         INC_NUMBER      OCCURRED_ON      OCCURRED_TO   UCR_CRIME_CATEGORY  \\\n",
       "ZIP                                                                          \n",
       "85003.0   2.016E+14   5/7/2016 22:00   5/7/2016 22:15   AGGRAVATED ASSAULT   \n",
       "85003.0   2.017E+14   8/20/2017 2:00              NaN   AGGRAVATED ASSAULT   \n",
       "85003.0  2.0168E+11  1/31/2016 16:20              NaN        LARCENY-THEFT   \n",
       "85003.0   2.017E+14  11/8/2017 18:27  11/8/2017 18:27         DRUG OFFENSE   \n",
       "85003.0   2.016E+14  6/28/2016 16:00              NaN  MOTOR VEHICLE THEFT   \n",
       "\n",
       "                     100_BLOCK_ADDR                         PREMISE_TYPE  \n",
       "ZIP                                                                       \n",
       "85003.0  S 7TH AVE & W JEFFERSON ST  STREET / ROADWAY / ALLEY / SIDEWALK  \n",
       "85003.0           3XX N CENTRAL AVE                  LIGHT RAIL PLATFORM  \n",
       "85003.0           1XX W MCDOWELL RD                          PARKING LOT  \n",
       "85003.0               1XX W YUMA ST  STREET / ROADWAY / ALLEY / SIDEWALK  \n",
       "85003.0           5XX W WILLETTA ST                  SINGLE FAMILY HOUSE  "
      ]
     },
     "execution_count": 5,
     "metadata": {},
     "output_type": "execute_result"
    }
   ],
   "source": [
    "CrimeByLocation = pd.read_csv('crimestat2.csv', index_col='ZIP', error_bad_lines=False, engine=\"python\")\n",
    "CrimeByLocation.sort_index(inplace=True)\n",
    "CrimeByLocation.head()"
   ]
  },
  {
   "cell_type": "code",
   "execution_count": 6,
   "id": "4eef0f5b-59ef-432f-8a79-3eb9de3c7cae",
   "metadata": {
    "collapsed": true,
    "jupyter": {
     "outputs_hidden": true
    },
    "tags": []
   },
   "outputs": [
    {
     "name": "stdout",
     "output_type": "stream",
     "text": [
      "         INC_NUMBER      OCCURRED_ON      OCCURRED_TO   UCR_CRIME_CATEGORY  \\\n",
      "ZIP                                                                          \n",
      "85003.0   2.016E+14   5/7/2016 22:00   5/7/2016 22:15   AGGRAVATED ASSAULT   \n",
      "85003.0   2.017E+14   8/20/2017 2:00              NaN   AGGRAVATED ASSAULT   \n",
      "85003.0  2.0168E+11  1/31/2016 16:20              NaN        LARCENY-THEFT   \n",
      "85003.0   2.017E+14  11/8/2017 18:27  11/8/2017 18:27         DRUG OFFENSE   \n",
      "85003.0   2.016E+14  6/28/2016 16:00              NaN  MOTOR VEHICLE THEFT   \n",
      "...             ...              ...              ...                  ...   \n",
      "85396.0   2.017E+14   8/23/2017 0:00              NaN        LARCENY-THEFT   \n",
      "85396.0   2.017E+14  8/10/2017 17:00  8/11/2017 15:00  MOTOR VEHICLE THEFT   \n",
      "NaN       2.017E+14   11/4/2016 0:00   6/25/2017 0:00                 RAPE   \n",
      "NaN       2.017E+14   2/4/2017 10:00   2/4/2017 10:14        LARCENY-THEFT   \n",
      "NaN       2.017E+14  2/18/2017 12:00  2/27/2017 15:23        LARCENY-THEFT   \n",
      "\n",
      "                     100_BLOCK_ADDR                         PREMISE_TYPE  \n",
      "ZIP                                                                       \n",
      "85003.0  S 7TH AVE & W JEFFERSON ST  STREET / ROADWAY / ALLEY / SIDEWALK  \n",
      "85003.0           3XX N CENTRAL AVE                  LIGHT RAIL PLATFORM  \n",
      "85003.0           1XX W MCDOWELL RD                          PARKING LOT  \n",
      "85003.0               1XX W YUMA ST  STREET / ROADWAY / ALLEY / SIDEWALK  \n",
      "85003.0           5XX W WILLETTA ST                  SINGLE FAMILY HOUSE  \n",
      "...                             ...                                  ...  \n",
      "85396.0             5XX W THOMAS RD                          PARKING LOT  \n",
      "85396.0            75XX W THOMAS RD                          PARKING LOT  \n",
      "NaN                 451XX W RHEA RD                            APARTMENT  \n",
      "NaN               XX W BASELINE AVE                      SPECIALTY STORE  \n",
      "NaN            122XX N TABLE TOP RD              FENCED RESIDENTIAL YARD  \n",
      "\n",
      "[131677 rows x 6 columns]\n"
     ]
    }
   ],
   "source": [
    "print(CrimeByLocation)"
   ]
  },
  {
   "cell_type": "code",
   "execution_count": 7,
   "id": "52970d75-3adb-4abf-918f-4ec3c45fbf11",
   "metadata": {},
   "outputs": [],
   "source": [
    "###### Where a crime is most common ###### For LARCENY-THEFT"
   ]
  },
  {
   "cell_type": "code",
   "execution_count": 8,
   "id": "121f61eb-d606-48d3-adff-a0b7a1a511ad",
   "metadata": {
    "tags": []
   },
   "outputs": [],
   "source": [
    "Theft = crime[(crime.UCR_CRIME_CATEGORY=='LARCENY-THEFT')]"
   ]
  },
  {
   "cell_type": "code",
   "execution_count": 9,
   "id": "0d189e05-dec6-48ad-a3db-1ead0c594411",
   "metadata": {
    "tags": []
   },
   "outputs": [],
   "source": [
    "TheftFrequency = Theft.ZIP"
   ]
  },
  {
   "cell_type": "code",
   "execution_count": 10,
   "id": "c3bce3b2-8694-4e7b-978f-70a049225814",
   "metadata": {
    "tags": []
   },
   "outputs": [
    {
     "data": {
      "text/plain": [
       "2         85014.0\n",
       "5         85017.0\n",
       "6         85085.0\n",
       "8         85014.0\n",
       "10        85027.0\n",
       "           ...   \n",
       "131663    85033.0\n",
       "131664    85007.0\n",
       "131668    85027.0\n",
       "131669    85254.0\n",
       "131672    85016.0\n",
       "Name: ZIP, Length: 66216, dtype: float64"
      ]
     },
     "execution_count": 10,
     "metadata": {},
     "output_type": "execute_result"
    }
   ],
   "source": [
    "TheftFrequency"
   ]
  },
  {
   "cell_type": "code",
   "execution_count": 11,
   "id": "b3d8f53c-3d6b-4fb3-ac25-db2f9452996e",
   "metadata": {
    "tags": []
   },
   "outputs": [
    {
     "data": {
      "text/plain": [
       "85015.0    3636\n",
       "85008.0    3196\n",
       "85051.0    2598\n",
       "85041.0    2548\n",
       "85032.0    2533\n",
       "           ... \n",
       "85382.0       1\n",
       "85266.0       1\n",
       "85202.0       1\n",
       "85268.0       1\n",
       "85233.0       1\n",
       "Name: ZIP, Length: 77, dtype: int64"
      ]
     },
     "execution_count": 11,
     "metadata": {},
     "output_type": "execute_result"
    }
   ],
   "source": [
    "TheftFrequency.value_counts()"
   ]
  },
  {
   "cell_type": "code",
   "execution_count": 12,
   "id": "1f1da760-7083-42d9-afa5-869b0a7026a1",
   "metadata": {},
   "outputs": [],
   "source": [
    "###### Fastest growing / shrinking crime rates ###### For LARCENY-THEFT versus BURGLURY "
   ]
  },
  {
   "cell_type": "code",
   "execution_count": 13,
   "id": "4de4cba8-1f89-47a2-b41f-6a8e849767d7",
   "metadata": {
    "tags": []
   },
   "outputs": [],
   "source": [
    "crime['OCCURRED_ON'] = pd.to_datetime(crime['OCCURRED_ON'], format='%m/%d/%Y %H:%M')"
   ]
  },
  {
   "cell_type": "code",
   "execution_count": 14,
   "id": "b6a878ad-01fe-43d4-a1d7-4b20da72791e",
   "metadata": {},
   "outputs": [],
   "source": [
    "jan = crime.UCR_CRIME_CATEGORY[(crime.UCR_CRIME_CATEGORY=='LARCENY-THEFT') & (crime.OCCURRED_ON >= '01/01/2017 0:00') & (crime.OCCURRED_ON < '02/01/2017 0:00')].value_counts()\n",
    "febu = crime.UCR_CRIME_CATEGORY[(crime.UCR_CRIME_CATEGORY=='LARCENY-THEFT') &(crime.OCCURRED_ON >= '02/01/2017 0:00') & (crime.OCCURRED_ON < '03/01/2017 0:00')].value_counts()\n",
    "mar = crime.UCR_CRIME_CATEGORY[(crime.UCR_CRIME_CATEGORY=='LARCENY-THEFT') &(crime.OCCURRED_ON >= '03/01/2017 0:00') & (crime.OCCURRED_ON < '04/01/2017 0:00')].value_counts()\n",
    "apr = crime.UCR_CRIME_CATEGORY[(crime.UCR_CRIME_CATEGORY=='LARCENY-THEFT') &(crime.OCCURRED_ON >= '04/01/2017 0:00') & (crime.OCCURRED_ON < '05/01/2017 0:00')].value_counts()\n",
    "may = crime.UCR_CRIME_CATEGORY[(crime.UCR_CRIME_CATEGORY=='LARCENY-THEFT') &(crime.OCCURRED_ON >= '05/01/2017 0:00') & (crime.OCCURRED_ON < '06/01/2017 0:00')].value_counts()\n",
    "jun = crime.UCR_CRIME_CATEGORY[(crime.UCR_CRIME_CATEGORY=='LARCENY-THEFT') &(crime.OCCURRED_ON >= '06/01/2017 0:00') & (crime.OCCURRED_ON < '07/01/2017 0:00')].value_counts()\n",
    "jul = crime.UCR_CRIME_CATEGORY[(crime.UCR_CRIME_CATEGORY=='LARCENY-THEFT') &(crime.OCCURRED_ON >= '07/01/2017 0:00') & (crime.OCCURRED_ON < '08/01/2017 0:00')].value_counts()\n",
    "aug = crime.UCR_CRIME_CATEGORY[(crime.UCR_CRIME_CATEGORY=='LARCENY-THEFT') &(crime.OCCURRED_ON >= '08/01/2017 0:00') & (crime.OCCURRED_ON < '09/01/2017 0:00')].value_counts()\n",
    "sep = crime.UCR_CRIME_CATEGORY[(crime.UCR_CRIME_CATEGORY=='LARCENY-THEFT') &(crime.OCCURRED_ON >= '09/01/2017 0:00') & (crime.OCCURRED_ON < '10/01/2017 0:00')].value_counts()\n",
    "octo = crime.UCR_CRIME_CATEGORY[(crime.UCR_CRIME_CATEGORY=='LARCENY-THEFT') &(crime.OCCURRED_ON >= '10/01/2017 0:00') & (crime.OCCURRED_ON < '11/01/2017 0:00')].value_counts()\n",
    "nov = crime.UCR_CRIME_CATEGORY[(crime.UCR_CRIME_CATEGORY=='LARCENY-THEFT') &(crime.OCCURRED_ON >= '11/01/2017 0:00') & (crime.OCCURRED_ON < '12/01/2017 0:00')].value_counts()\n",
    "dec = crime.UCR_CRIME_CATEGORY[(crime.UCR_CRIME_CATEGORY=='LARCENY-THEFT') &(crime.OCCURRED_ON >= '12/01/2017 0:00') & (crime.OCCURRED_ON < '01/01/2018 0:00')].value_counts()"
   ]
  },
  {
   "cell_type": "code",
   "execution_count": 20,
   "id": "c37c3b3f-976c-4787-aeb2-edcdc11b8ca3",
   "metadata": {
    "tags": []
   },
   "outputs": [],
   "source": [
    "janB = crime.UCR_CRIME_CATEGORY[(crime.UCR_CRIME_CATEGORY=='BURGLARY') & (crime.OCCURRED_ON >= '01/01/2017 0:00') & (crime.OCCURRED_ON < '02/01/2017 0:00')].value_counts()\n",
    "febuB = crime.UCR_CRIME_CATEGORY[(crime.UCR_CRIME_CATEGORY=='BURGLARY') &(crime.OCCURRED_ON >= '02/01/2017 0:00') & (crime.OCCURRED_ON < '03/01/2017 0:00')].value_counts()\n",
    "marB = crime.UCR_CRIME_CATEGORY[(crime.UCR_CRIME_CATEGORY=='BURGLARY') &(crime.OCCURRED_ON >= '03/01/2017 0:00') & (crime.OCCURRED_ON < '04/01/2017 0:00')].value_counts()\n",
    "aprB = crime.UCR_CRIME_CATEGORY[(crime.UCR_CRIME_CATEGORY=='BURGLARY') &(crime.OCCURRED_ON >= '04/01/2017 0:00') & (crime.OCCURRED_ON < '05/01/2017 0:00')].value_counts()\n",
    "mayB = crime.UCR_CRIME_CATEGORY[(crime.UCR_CRIME_CATEGORY=='BURGLARY') &(crime.OCCURRED_ON >= '05/01/2017 0:00') & (crime.OCCURRED_ON < '06/01/2017 0:00')].value_counts()\n",
    "junB = crime.UCR_CRIME_CATEGORY[(crime.UCR_CRIME_CATEGORY=='BURGLARY') &(crime.OCCURRED_ON >= '06/01/2017 0:00') & (crime.OCCURRED_ON < '07/01/2017 0:00')].value_counts()\n",
    "julB = crime.UCR_CRIME_CATEGORY[(crime.UCR_CRIME_CATEGORY=='BURGLARY') &(crime.OCCURRED_ON >= '07/01/2017 0:00') & (crime.OCCURRED_ON < '08/01/2017 0:00')].value_counts()\n",
    "augB = crime.UCR_CRIME_CATEGORY[(crime.UCR_CRIME_CATEGORY=='BURGLARY') &(crime.OCCURRED_ON >= '08/01/2017 0:00') & (crime.OCCURRED_ON < '09/01/2017 0:00')].value_counts()\n",
    "sepB = crime.UCR_CRIME_CATEGORY[(crime.UCR_CRIME_CATEGORY=='BURGLARY') &(crime.OCCURRED_ON >= '09/01/2017 0:00') & (crime.OCCURRED_ON < '10/01/2017 0:00')].value_counts()\n",
    "octoB = crime.UCR_CRIME_CATEGORY[(crime.UCR_CRIME_CATEGORY=='BURGLARY') &(crime.OCCURRED_ON >= '10/01/2017 0:00') & (crime.OCCURRED_ON < '11/01/2017 0:00')].value_counts()\n",
    "novB = crime.UCR_CRIME_CATEGORY[(crime.UCR_CRIME_CATEGORY=='BURGLARY') &(crime.OCCURRED_ON >= '11/01/2017 0:00') & (crime.OCCURRED_ON < '12/01/2017 0:00')].value_counts()\n",
    "decB = crime.UCR_CRIME_CATEGORY[(crime.UCR_CRIME_CATEGORY=='BURGLARY') &(crime.OCCURRED_ON >= '12/01/2017 0:00') & (crime.OCCURRED_ON < '01/01/2018 0:00')].value_counts()"
   ]
  },
  {
   "cell_type": "code",
   "execution_count": 25,
   "id": "f426a375-bdf9-4d1c-a8f5-6a89095f2a00",
   "metadata": {
    "tags": []
   },
   "outputs": [
    {
     "data": {
      "image/png": "[encoded data removed]",
      "text/plain": [
       "<Figure size 640x480 with 1 Axes>"
      ]
     },
     "metadata": {},
     "output_type": "display_data"
    }
   ],
   "source": [
    "months = ['Jan', 'Feb', 'Mar', 'Apr', 'May', 'Jun', 'Jul', 'Aug', 'Sep', 'Oct']\n",
    "larceny_counts = {'Jan': jan.sum(), 'Feb': febu.sum(), 'Mar': mar.sum(), 'Apr': apr.sum(), 'May': may.sum(), 'Jun': jun.sum(), 'Jul': jul.sum(), 'Aug': aug.sum(), 'Sep': sep.sum(), 'Oct': octo.sum()}\n",
    "burglary_count = {'Jan': janB.sum(), 'Feb': febuB.sum(), 'Mar': marB.sum(), 'Apr': aprB.sum(), 'May': mayB.sum(), 'Jun': junB.sum(), 'Jul': julB.sum(), 'Aug': augB.sum(), 'Sep': sepB.sum(), 'Oct': octoB.sum()}\n",
    "\n",
    "larceny_values = [larceny_counts[month] for month in months]\n",
    "burglary_values = [burglary_count[month] for month in months]\n",
    "plt.plot(months, larceny_values, label='Larceny-Theft')\n",
    "plt.plot(months, burglary_values, label='Burglary')\n",
    "\n",
    "plt.xlabel('Months')\n",
    "plt.ylim(0,3000)\n",
    "plt.ylabel('Reported per month')\n",
    "plt.title('Larceny-Theft versus Burglary rates over ten months')\n",
    "plt.legend()\n",
    "plt.show()"
   ]
  },
  {
   "cell_type": "code",
   "execution_count": null,
   "id": "558df08b-bb6e-4e0e-9335-760adba6d009",
   "metadata": {
    "tags": []
   },
   "outputs": [],
   "source": [
    "###### Violent versus Non-violent ######\n"
   ]
  },
  {
   "cell_type": "code",
   "execution_count": 26,
   "id": "754e1d9f-46f8-4e2c-aa44-49eada2a91cc",
   "metadata": {
    "tags": []
   },
   "outputs": [
    {
     "name": "stdout",
     "output_type": "stream",
     "text": [
      "0         MOTOR VEHICLE THEFT\n",
      "1                        RAPE\n",
      "2               LARCENY-THEFT\n",
      "3         MOTOR VEHICLE THEFT\n",
      "4         MOTOR VEHICLE THEFT\n",
      "                 ...         \n",
      "131672          LARCENY-THEFT\n",
      "131673    MOTOR VEHICLE THEFT\n",
      "131674     AGGRAVATED ASSAULT\n",
      "131675               BURGLARY\n",
      "131676               BURGLARY\n",
      "Name: UCR_CRIME_CATEGORY, Length: 131677, dtype: object\n"
     ]
    }
   ],
   "source": [
    "Category = crime.UCR_CRIME_CATEGORY\n",
    "print(Category)"
   ]
  },
  {
   "cell_type": "code",
   "execution_count": 27,
   "id": "fa1863b3-1f6a-4527-9b59-ccac88af6a2a",
   "metadata": {
    "tags": []
   },
   "outputs": [
    {
     "data": {
      "text/plain": [
       "array(['MOTOR VEHICLE THEFT', 'RAPE', 'LARCENY-THEFT', 'DRUG OFFENSE',\n",
       "       'BURGLARY', 'AGGRAVATED ASSAULT',\n",
       "       'MURDER AND NON-NEGLIGENT MANSLAUGHTER', 'ROBBERY', 'ARSON'],\n",
       "      dtype=object)"
      ]
     },
     "execution_count": 27,
     "metadata": {},
     "output_type": "execute_result"
    }
   ],
   "source": [
    "Category.unique()"
   ]
  },
  {
   "cell_type": "code",
   "execution_count": 28,
   "id": "97a63fcf-b5ba-4360-9ba3-2dc08c70f2b3",
   "metadata": {
    "tags": []
   },
   "outputs": [
    {
     "data": {
      "text/plain": [
       "LARCENY-THEFT                            66216\n",
       "BURGLARY                                 23648\n",
       "MOTOR VEHICLE THEFT                      14391\n",
       "DRUG OFFENSE                              9572\n",
       "AGGRAVATED ASSAULT                        9306\n",
       "ROBBERY                                   5640\n",
       "RAPE                                      1981\n",
       "ARSON                                      634\n",
       "MURDER AND NON-NEGLIGENT MANSLAUGHTER      289\n",
       "Name: UCR_CRIME_CATEGORY, dtype: int64"
      ]
     },
     "execution_count": 28,
     "metadata": {},
     "output_type": "execute_result"
    }
   ],
   "source": [
    "Category.value_counts()"
   ]
  },
  {
   "cell_type": "code",
   "execution_count": 29,
   "id": "a9476f46-9b17-48ce-8970-adc0f2097b08",
   "metadata": {
    "tags": []
   },
   "outputs": [],
   "source": [
    "larc = crime[crime.UCR_CRIME_CATEGORY=='LARCENY-THEFT']\n",
    "burg = crime[crime.UCR_CRIME_CATEGORY == \"BURGLARY\"]\n",
    "mvt = crime[crime.UCR_CRIME_CATEGORY == \"MOTOR VEHICLE THEFT\"]\n",
    "drug = crime[crime.UCR_CRIME_CATEGORY == \"DRUG OFFENSE\"]\n",
    "\n",
    "NonViolent = pd.concat([larc, burg, mvt, drug])"
   ]
  },
  {
   "cell_type": "code",
   "execution_count": 30,
   "id": "06a1b519-5119-4413-ae0e-0bb8e9f4300d",
   "metadata": {
    "tags": []
   },
   "outputs": [],
   "source": [
    "agg = crime[crime.UCR_CRIME_CATEGORY=='AGGRAVATED ASSAULT']\n",
    "rob = crime[crime.UCR_CRIME_CATEGORY == \"ROBBERY\"]\n",
    "r = crime[crime.UCR_CRIME_CATEGORY == \"RAPE\"]\n",
    "ars = crime[crime.UCR_CRIME_CATEGORY == \"ARSON\"]\n",
    "murd = crime[crime.UCR_CRIME_CATEGORY == \"MURDER AND NON-NEGLIGENT MANSLAUGHTER\"]\n",
    "\n",
    "Violent = pd.concat([agg, rob, r, ars, murd])"
   ]
  },
  {
   "cell_type": "code",
   "execution_count": 31,
   "id": "edd5c563-6e4d-4b77-b5d1-4d45d30c6ca0",
   "metadata": {
    "tags": []
   },
   "outputs": [],
   "source": [
    "df = pd.DataFrame(NonViolent)\n",
    "df2 = pd.DataFrame(Violent)"
   ]
  },
  {
   "cell_type": "code",
   "execution_count": 36,
   "id": "1a3f6581-c15d-45dc-8f61-b4a628dba36a",
   "metadata": {
    "tags": []
   },
   "outputs": [
    {
     "data": {
      "text/plain": [
       "([0, 1, 2, 3, 4, 5, 6, 7, 8],\n",
       " [Text(0, 0, 'AGGRAVATED ASSAULT'),\n",
       "  Text(1, 0, 'ROBBERY'),\n",
       "  Text(2, 0, 'RAPE'),\n",
       "  Text(3, 0, 'ARSON'),\n",
       "  Text(4, 0, 'MURDER AND NON-NEGLIGENT MANSLAUGHTER'),\n",
       "  Text(5, 0, 'LARCENY-THEFT'),\n",
       "  Text(6, 0, 'BURGLARY'),\n",
       "  Text(7, 0, 'MOTOR VEHICLE THEFT'),\n",
       "  Text(8, 0, 'DRUG OFFENSE')])"
      ]
     },
     "execution_count": 36,
     "metadata": {},
     "output_type": "execute_result"
    },
    {
     "data": {
      "image/png": "[encoded data removed]",
      "text/plain": [
       "<Figure size 640x480 with 1 Axes>"
      ]
     },
     "metadata": {},
     "output_type": "display_data"
    }
   ],
   "source": [
    "fig, ax = plt.subplots()\n",
    "ax.bar(Violent.UCR_CRIME_CATEGORY.value_counts().index, \n",
    "       Violent.UCR_CRIME_CATEGORY.value_counts().values, \n",
    "       color='r', \n",
    "       alpha=0.5, \n",
    "       label='Violent')\n",
    "\n",
    "ax.bar(NonViolent.UCR_CRIME_CATEGORY.value_counts().index, \n",
    "       NonViolent.UCR_CRIME_CATEGORY.value_counts().values, \n",
    "       color='b', \n",
    "       alpha=0.5, \n",
    "       label='Nonviolent')\n",
    "plt.xlabel('Type of Crime')\n",
    "plt.ylabel('Frequency')\n",
    "plt.legend()\n",
    "plt.xticks(fontsize=5, rotation='vertical')"
   ]
  },
  {
   "cell_type": "code",
   "execution_count": 35,
   "id": "f3139929-dbf4-4c69-b6e1-2725cd885acb",
   "metadata": {
    "tags": []
   },
   "outputs": [
    {
     "data": {
      "text/plain": [
       "<Axes: ylabel='UCR_CRIME_CATEGORY'>"
      ]
     },
     "execution_count": 35,
     "metadata": {},
     "output_type": "execute_result"
    },
    {
     "data": {
      "image/png": "[encoded data removed]",
      "text/plain": [
       "<Figure size 640x480 with 1 Axes>"
      ]
     },
     "metadata": {},
     "output_type": "display_data"
    }
   ],
   "source": [
    "# Frequency \n",
    "crime.UCR_CRIME_CATEGORY.value_counts().plot.pie()"
   ]
  },
  {
   "cell_type": "code",
   "execution_count": 34,
   "id": "41969bf2-93cf-43f0-8f51-ba696bb86060",
   "metadata": {
    "tags": []
   },
   "outputs": [
    {
     "data": {
      "text/plain": [
       "INC_NUMBER               20\n",
       "OCCURRED_ON           83138\n",
       "OCCURRED_TO           66576\n",
       "UCR_CRIME_CATEGORY        9\n",
       "100_BLOCK_ADDR        29254\n",
       "ZIP                      98\n",
       "PREMISE_TYPE             94\n",
       "dtype: int64"
      ]
     },
     "execution_count": 34,
     "metadata": {},
     "output_type": "execute_result"
    }
   ],
   "source": [
    "############ Data distinctions ############\n",
    "crime.nunique()"
   ]
  }
 ],
 "metadata": {
  "kernelspec": {
   "display_name": "Python 3 (ipykernel)",
   "language": "python",
   "name": "python3"
  },
  "language_info": {
   "codemirror_mode": {
    "name": "ipython",
    "version": 3
   },
   "file_extension": ".py",
   "mimetype": "text/x-python",
   "name": "python",
   "nbconvert_exporter": "python",
   "pygments_lexer": "ipython3",
   "version": "3.11.1"
  }
 },
 "nbformat": 4,
 "nbformat_minor": 5
}
